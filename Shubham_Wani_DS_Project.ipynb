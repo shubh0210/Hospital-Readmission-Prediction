{
 "cells": [
  {
   "cell_type": "code",
   "execution_count": 1,
   "id": "cdfeecfe",
   "metadata": {
    "id": "cdfeecfe"
   },
   "outputs": [],
   "source": [
    "# Import Statements\n",
    "\n",
    "import pandas as pd\n",
    "from sklearn.preprocessing import OneHotEncoder\n",
    "import numpy as np\n",
    "from sklearn import preprocessing\n",
    "from sklearn.tree import DecisionTreeClassifier\n",
    "from sklearn.metrics import classification_report\n",
    "from sklearn.metrics import confusion_matrix\n",
    "from sklearn.linear_model import LogisticRegression\n",
    "from sklearn.ensemble import RandomForestClassifier\n",
    "from sklearn.naive_bayes import MultinomialNB\n",
    "from sklearn.neighbors import KNeighborsClassifier\n",
    "from sklearn.metrics import roc_auc_score\n",
    "from collections import Counter\n",
    "from imblearn.under_sampling import RandomUnderSampler\n",
    "from sklearn.feature_selection import SelectFromModel\n",
    "from sklearn.metrics import roc_curve\n",
    "from matplotlib import pyplot\n",
    "from sklearn.model_selection import GridSearchCV"
   ]
  },
  {
   "cell_type": "code",
   "execution_count": 2,
   "id": "00BWp7ZCA73j",
   "metadata": {
    "id": "00BWp7ZCA73j"
   },
   "outputs": [],
   "source": [
    "# Reading the data \n",
    "df_diabetes = pd.read_csv('diabetic_data_train.csv')"
   ]
  },
  {
   "cell_type": "markdown",
   "id": "LJVvrqVEDJox",
   "metadata": {
    "id": "LJVvrqVEDJox"
   },
   "source": [
    "Pre Processing and sanitizing the data"
   ]
  },
  {
   "cell_type": "code",
   "execution_count": 3,
   "id": "h8MtArwYziQU",
   "metadata": {
    "id": "h8MtArwYziQU"
   },
   "outputs": [],
   "source": [
    "# Diagnosis Mapping according to the ICD-9 Codes they are grouped - [2]\n",
    "def diagnosis_mapping(df):\n",
    "  list_diag = ['diag_1','diag_2','diag_3']\n",
    "  for dg in list_diag:\n",
    "    list1 = df[dg].unique()\n",
    "    for j in list1:\n",
    "      j = str(j)\n",
    "      if j.startswith('250.') or j.startswith('365.'):\n",
    "        df[dg].replace(j,4,inplace=True)\n",
    "      elif j.startswith('E') or j.startswith('V'):\n",
    "        df[dg].replace(j,9,inplace=True) \n",
    "      elif j.startswith('missing'):\n",
    "        df[dg].replace(j,10,inplace=True)\n",
    "      else:\n",
    "        try:\n",
    "          i = int(j)\n",
    "          if (i in range(390,460)) or i==785:\n",
    "            df[dg].replace(j,1,inplace=True)\n",
    "          elif (i in range(460,520)) or i==786:\n",
    "            df[dg].replace(j,2,inplace=True)\n",
    "          elif (i in range(520,580) or i==787):\n",
    "            df[dg].replace(j,3,inplace=True)\n",
    "          elif (i in range(800,1000)):\n",
    "            df[dg].replace(j,5,inplace=True)\n",
    "          elif (i in range(710,740)):\n",
    "            df[dg].replace(j,6,inplace=True)\n",
    "          elif (i in range(580,630) or i==788):\n",
    "            df[dg].replace(j,7,inplace=True)\n",
    "          elif i in range(140,240):\n",
    "            df[dg].replace(j,8,inplace=True)\n",
    "          else:\n",
    "            df[dg].replace(j,9,inplace=True)\n",
    "        except:\n",
    "          pass    "
   ]
  },
  {
   "cell_type": "code",
   "execution_count": 4,
   "id": "1toFY31Jl41b",
   "metadata": {
    "id": "1toFY31Jl41b"
   },
   "outputs": [],
   "source": [
    "# Function for discharge_disposition_id preprocessing \n",
    "def discharge(df):\n",
    "  # Patients who have the discharge_disposition_id of either hospice or expired are removed from the dataset.\n",
    "  list_death_ids = [11,13,14,19,20,21]\n",
    "  for i in list_death_ids:\n",
    "    df.drop(df.loc[df['discharge_disposition_id']==i].index, inplace=True)"
   ]
  },
  {
   "cell_type": "code",
   "execution_count": 5,
   "id": "3lS4BIy4l8V-",
   "metadata": {
    "id": "3lS4BIy4l8V-"
   },
   "outputs": [],
   "source": [
    "# Function for medical_specialty preprocessing \n",
    "# They are grouped according to their speciality [1]\n",
    "def medical_specialty(df):\n",
    "  list1 = df['medical_specialty'].unique()\n",
    "  for i in list1:\n",
    "    if(i=='InternalMedicine'):\n",
    "      df['medical_specialty'].replace(i,1,inplace=True)\n",
    "    elif (i=='Cardiology'):\n",
    "      df['medical_specialty'].replace(i,2,inplace=True)\n",
    "    elif i.startswith('Surgery'):\n",
    "      df['medical_specialty'].replace(i,3,inplace=True)\n",
    "    elif i=='Family/GeneralPractice':\n",
    "      df['medical_specialty'].replace(i,4,inplace=True)\n",
    "    elif i=='missing':\n",
    "      df['medical_specialty'].replace(i,5,inplace=True)\n",
    "    else:\n",
    "      df['medical_specialty'].replace(i,6,inplace=True)"
   ]
  },
  {
   "cell_type": "code",
   "execution_count": 6,
   "id": "VahB395TmNOU",
   "metadata": {
    "id": "VahB395TmNOU"
   },
   "outputs": [],
   "source": [
    "# Dropping Columns \n",
    "#Unnamed: 0    0\n",
    "#encounter_id  1\n",
    "#patient_nbr   2\n",
    "# Above 3 Columns are identifires so they are removed from database\n",
    "# weight- Sparase and not included in analysis [1] 6 - Weight contains 97% Null so removed from database\n",
    "# payer_code-removed since high number of missing columns and not considered relevant to outcome[1] 11 \n",
    "\n",
    "def drop_columns(df):\n",
    "    df.drop(['Unnamed: 0','encounter_id','patient_nbr','weight','payer_code'],axis=1,inplace=True)"
   ]
  },
  {
   "cell_type": "code",
   "execution_count": 7,
   "id": "5444f644",
   "metadata": {
    "id": "5444f644"
   },
   "outputs": [],
   "source": [
    "#Encoding / Grouping the columns: \n",
    "def encoding_data(df):\n",
    "\n",
    "  # Readmitted columns is being remapped according to the problem statement\n",
    "  readmitted_mapper = {'NO':0,'>30':0,'<30':1}\n",
    "  df[\"readmitted\"] = df[\"readmitted\"].replace(readmitted_mapper)\n",
    "\n",
    "  # Race column is mapped \n",
    "  race_mapper = {'Caucasian':1,'Asian':2,'AfricanAmerican':3,'Hispanic':4,'Other':5,'Missing':6}\n",
    "  df[\"race\"] = df[\"race\"].replace(race_mapper)\n",
    "\n",
    "  # Gender column is mapped in Male and Female\n",
    "  gender_mapper = {'Male':1,'Female':2}\n",
    "  df['gender'] = df['gender'].replace(gender_mapper)\n",
    "\n",
    "  # Mapping the diag_1, diag_2, diag_3 columns according to the function defined above\n",
    "  diagnosis_mapping(df)\n",
    "\n",
    "  #Removing the the discharge outliers\n",
    "  discharge(df)\n",
    "\n",
    "  # Mapping the age in 3 parts [0-20], [20-60] [60-100] according to paper [1]\n",
    "  age_mapper = {'[0-10)':1,'[10-20)':1,'[20-30)':2,'[30-40)':2,'[40-50)':2,'[50-60)':2,'[60-70)':3,'[70-80)':3,'[80-90)':3,'[90-100)':3}\n",
    "  df['age'] = df['age'].replace(age_mapper)\n",
    "\n",
    "  # Mapping the Medical Speciality\n",
    "  medical_specialty(df)\n",
    "\n",
    "  # Mapping the HbA1c column \n",
    "  a1c_mapper = {'>7':1,'>8':2,'Norm':3,'None':4}\n",
    "  df['A1Cresult'] = df['A1Cresult'].replace(a1c_mapper)\n",
    "\n",
    "  # Mapping the Metformin column \n",
    "  metformin_mapper = {'No':0, 'Up':1, 'Steady':2, 'Down':3}\n",
    "  df['metformin'] = df['metformin'].replace(metformin_mapper)\n",
    "  \n",
    "  # Mapping the insulin column \n",
    "  insulin_mapper = {'No':0, 'Up':1, 'Steady':2, 'Down':3}\n",
    "  df['insulin'] = df['insulin'].replace(insulin_mapper)\n",
    "\n",
    "  # Mapping the diabetedMed column\n",
    "  diabetesMed_mapper = {'No':0, 'Yes':1}\n",
    "  df['diabetesMed'] = df['diabetesMed'].replace(diabetesMed_mapper)\n",
    "  \n",
    "  # Encoding the remaining columns using label encoder\n",
    "  encoding_columns = list(df.select_dtypes(include=[\"object\"]).columns)\n",
    "    \n",
    "  for column_name in encoding_columns:\n",
    "    le = preprocessing.LabelEncoder()\n",
    "    df[column_name]=le.fit_transform(df[column_name])"
   ]
  },
  {
   "cell_type": "code",
   "execution_count": 8,
   "id": "BTKN_zDnrPCS",
   "metadata": {
    "colab": {
     "base_uri": "https://localhost:8080/"
    },
    "id": "BTKN_zDnrPCS",
    "outputId": "fbc1c3c5-61e0-47e4-df6c-70a4c8c8b754"
   },
   "outputs": [
    {
     "name": "stdout",
     "output_type": "stream",
     "text": [
      "Mode for Race column :  Caucasian\n",
      "Mode for Gender column :  Female\n",
      "Mode for Diag_1 column :  428\n",
      "Mode for Diag_2 column :  276\n",
      "Mode for Diag_3 column :  250\n"
     ]
    }
   ],
   "source": [
    "# Getting the mode of the columns where null values need to be replaced.\n",
    "\n",
    "# Race column \n",
    "race_mode = df_diabetes['race'].value_counts()\n",
    "print(\"Mode for Race column : \" ,race_mode.index[0])\n",
    "\n",
    "# Gender column\n",
    "gender_mode = df_diabetes['gender'].value_counts()\n",
    "print(\"Mode for Gender column : \" , gender_mode.index[0])\n",
    "\n",
    "# Diag_1 column \n",
    "diag_1_mode = df_diabetes['diag_1'].value_counts()\n",
    "print(\"Mode for Diag_1 column : \",diag_1_mode.index[0])\n",
    "\n",
    "# Diag_2 column \n",
    "diag_2_mode = df_diabetes['diag_2'].value_counts()\n",
    "print(\"Mode for Diag_2 column : \",diag_2_mode.index[0])\n",
    "\n",
    "# Diag_3 column \n",
    "diag_3_mode = df_diabetes['diag_3'].value_counts()\n",
    "print(\"Mode for Diag_3 column : \",diag_3_mode.index[0])"
   ]
  },
  {
   "cell_type": "code",
   "execution_count": 9,
   "id": "E3sCRP7cmFwI",
   "metadata": {
    "id": "E3sCRP7cmFwI"
   },
   "outputs": [],
   "source": [
    "# Replacing Null \n",
    "def replace_null(df):\n",
    "  # Replacing null with the mode values generated above\n",
    "\n",
    "    #null in race is replaced with \"Caucasian\" which is mode\n",
    "    df['race'].replace('?','Missing',inplace=True)\n",
    "\n",
    "    #null in Gender is replaced by 'Female'\n",
    "    df['gender'].replace('Unknown/Invalid','Female',inplace=True)\n",
    "    \n",
    "    #null in medical_specialty is replaced with 'missing' according to reseacrh paper[1]\n",
    "    df['medical_specialty'].replace('?','missing',inplace=True)\n",
    "    \n",
    "    #null in diag_3 is replaced with \"250\" which is mode\n",
    "    df['diag_3'].replace('?','250',inplace=True)\n",
    "\n",
    "    #null in diag_1 is replaced with \"428\" which is mode\n",
    "    df['diag_1'].replace('?','428',inplace=True)\n",
    "\n",
    "    #null in diag_2 is replaced with \"276\" which is mode\n",
    "    df['diag_2'].replace('?','276',inplace=True)"
   ]
  },
  {
   "cell_type": "code",
   "execution_count": 10,
   "id": "344c9f5d",
   "metadata": {
    "id": "344c9f5d"
   },
   "outputs": [],
   "source": [
    "# Pre Processing the data \n",
    "def pre_processing(df):\n",
    "  drop_columns(df)\n",
    "  replace_null(df)\n",
    "  encoding_data(df)"
   ]
  },
  {
   "cell_type": "code",
   "execution_count": 11,
   "id": "dtWfC_dyDsEp",
   "metadata": {
    "id": "dtWfC_dyDsEp"
   },
   "outputs": [],
   "source": [
    "# Training Data\n",
    "df_train = pd.read_csv('diabetic_data_train.csv')\n",
    "# Pre Processing Data\n",
    "pre_processing(df_train)"
   ]
  },
  {
   "cell_type": "markdown",
   "id": "IlsUqRdkKpzp",
   "metadata": {
    "id": "IlsUqRdkKpzp"
   },
   "source": [
    "Feature Selection"
   ]
  },
  {
   "cell_type": "code",
   "execution_count": 12,
   "id": "IrmhfsqSDwrT",
   "metadata": {
    "colab": {
     "base_uri": "https://localhost:8080/"
    },
    "id": "IrmhfsqSDwrT",
    "outputId": "dc6bcbbb-e7dc-4526-dfc1-94365cfa1a4b"
   },
   "outputs": [
    {
     "data": {
      "text/plain": [
       "metformin                  -0.021716\n",
       "change                     -0.016879\n",
       "admission_type_id          -0.013292\n",
       "diag_3                     -0.012039\n",
       "race                       -0.010130\n",
       "num_procedures             -0.009585\n",
       "glimepiride                -0.009033\n",
       "max_glu_serum              -0.008651\n",
       "pioglitazone               -0.008141\n",
       "rosiglitazone              -0.008056\n",
       "acarbose                   -0.005834\n",
       "glyburide                  -0.005352\n",
       "chlorpropamide             -0.004887\n",
       "tolbutamide                -0.004734\n",
       "diag_2                     -0.004365\n",
       "miglitol                   -0.003426\n",
       "tolazamide                 -0.002885\n",
       "metformin-rosiglitazone    -0.001857\n",
       "troglitazone               -0.001857\n",
       "glipizide                  -0.001665\n",
       "metformin-pioglitazone     -0.001313\n",
       "acetohexamide              -0.001313\n",
       "nateglinide                -0.001224\n",
       "glipizide-metformin        -0.000877\n",
       "glyburide-metformin         0.000172\n",
       "diag_1                      0.001294\n",
       "gender                      0.002426\n",
       "admission_source_id         0.008224\n",
       "repaglinide                 0.008508\n",
       "medical_specialty           0.010275\n",
       "A1Cresult                   0.019097\n",
       "number_outpatient           0.019790\n",
       "age                         0.024419\n",
       "num_lab_procedures          0.025409\n",
       "diabetesMed                 0.026625\n",
       "insulin                     0.035663\n",
       "num_medications             0.042449\n",
       "time_in_hospital            0.049007\n",
       "number_diagnoses            0.052526\n",
       "number_emergency            0.062210\n",
       "discharge_disposition_id    0.068451\n",
       "number_inpatient            0.166264\n",
       "readmitted                  1.000000\n",
       "examide                          NaN\n",
       "citoglipton                      NaN\n",
       "glimepiride-pioglitazone         NaN\n",
       "Name: readmitted, dtype: float64"
      ]
     },
     "execution_count": 12,
     "metadata": {},
     "output_type": "execute_result"
    }
   ],
   "source": [
    "# Finding corelation with the readmitted column \n",
    "df_train.corr()['readmitted'].sort_values()\n",
    "\n",
    "# We can see from below numbers that coorelation between all the columns and readmitted column is very low so we use \n",
    "# feature selection based on feature importance for decision tree"
   ]
  },
  {
   "cell_type": "code",
   "execution_count": 13,
   "id": "t62jRPMPGErB",
   "metadata": {
    "colab": {
     "base_uri": "https://localhost:8080/"
    },
    "id": "t62jRPMPGErB",
    "outputId": "331ec9e4-986e-4a27-cdfe-b2140d66000e"
   },
   "outputs": [
    {
     "name": "stdout",
     "output_type": "stream",
     "text": [
      "10 selected features\n",
      "['discharge_disposition_id', 'time_in_hospital', 'num_lab_procedures', 'num_procedures', 'num_medications', 'number_inpatient', 'diag_1', 'diag_2', 'diag_3', 'number_diagnoses']\n"
     ]
    }
   ],
   "source": [
    "#We use RandomForest to select features based on feature importance.\n",
    "#We calculate feature importance using node impurities in each decision tree. \n",
    "#In Random forest, the final feature importance is the average of all decision tree feature importance.\n",
    "# We will be using top 10 seelcted feature for our model [3]\n",
    "X = df_train.drop('readmitted',axis=1)\n",
    "y = df_train['readmitted']\n",
    "# RandomForest classifer for top  10 fearure selection \n",
    "embeded_rf_selector = SelectFromModel(RandomForestClassifier(n_estimators=100), max_features=10)\n",
    "# Fitting the data \n",
    "embeded_rf_selector.fit(X, y)\n",
    "# Getting support \n",
    "embeded_rf_support = embeded_rf_selector.get_support()\n",
    "# Features selected\n",
    "embeded_rf_feature = X.loc[:,embeded_rf_support].columns.tolist()\n",
    "columns_selected = embeded_rf_feature\n",
    "print(str(len(embeded_rf_feature)), 'selected features')\n",
    "print(embeded_rf_feature)"
   ]
  },
  {
   "cell_type": "markdown",
   "id": "zFLaU6FqNEMJ",
   "metadata": {
    "id": "zFLaU6FqNEMJ"
   },
   "source": [
    "Model 1 :  Decision Tree Classifier"
   ]
  },
  {
   "cell_type": "code",
   "execution_count": 14,
   "id": "8a742c8c",
   "metadata": {
    "id": "8a742c8c"
   },
   "outputs": [],
   "source": [
    "# Decission Tree Classifier\n",
    "clf = DecisionTreeClassifier(random_state=42)\n",
    "# X_train \n",
    "X_train = df_train[columns_selected]\n",
    "# y_train\n",
    "y_train = df_train['readmitted']\n",
    "# Fitting Model \n",
    "model = clf.fit(X_train,y_train)"
   ]
  },
  {
   "cell_type": "code",
   "execution_count": 15,
   "id": "c643098b",
   "metadata": {
    "colab": {
     "base_uri": "https://localhost:8080/"
    },
    "id": "c643098b",
    "outputId": "ddecd017-362a-44b5-fdc7-5fca1b628a29"
   },
   "outputs": [
    {
     "name": "stdout",
     "output_type": "stream",
     "text": [
      "Accuracy of Decision Tree :  0.7911609339086253\n"
     ]
    }
   ],
   "source": [
    "# Test Data \n",
    "df_test = pd.read_csv('diabetic_data_test.csv')\n",
    "# Pre Processing Test Data\n",
    "pre_processing(df_test)\n",
    "# X_test\n",
    "X_test = df_test[columns_selected]\n",
    "# y_test\n",
    "y_test = df_test['readmitted']\n",
    "# Accuracy\n",
    "accuracy_decision_tree = model.score(X_test,y_test)\n",
    "print(\"Accuracy of Decision Tree : \",accuracy_decision_tree)"
   ]
  },
  {
   "cell_type": "code",
   "execution_count": 16,
   "id": "72841484",
   "metadata": {
    "colab": {
     "base_uri": "https://localhost:8080/"
    },
    "id": "72841484",
    "outputId": "d567d122-a374-4fe8-f428-035188d78e96"
   },
   "outputs": [
    {
     "name": "stdout",
     "output_type": "stream",
     "text": [
      "Classification Report on Decision Tree Model \n",
      "              precision    recall  f1-score   support\n",
      "\n",
      "           0       0.89      0.87      0.88     21971\n",
      "           1       0.15      0.19      0.17      2828\n",
      "\n",
      "    accuracy                           0.79     24799\n",
      "   macro avg       0.52      0.53      0.52     24799\n",
      "weighted avg       0.81      0.79      0.80     24799\n",
      "\n",
      "AUC score = 52.726024925359695 %\n"
     ]
    }
   ],
   "source": [
    "# Y predicitons on Test Data \n",
    "y_pred = model.predict(X_test)\n",
    "\n",
    "# Classification Report \n",
    "print(\"Classification Report on Decision Tree Model \")\n",
    "print(classification_report(y_test, y_pred))\n",
    "\n",
    "# AUC score \n",
    "print(f\"AUC score = {roc_auc_score(y_test, model.predict_proba(X_test)[:,1])*100} %\")"
   ]
  },
  {
   "cell_type": "code",
   "execution_count": 17,
   "id": "UNYJclywXLkf",
   "metadata": {
    "colab": {
     "base_uri": "https://localhost:8080/",
     "height": 296
    },
    "id": "UNYJclywXLkf",
    "outputId": "9368f156-6829-4589-9664-2608f60286a6"
   },
   "outputs": [
    {
     "name": "stdout",
     "output_type": "stream",
     "text": [
      "Decision Tree : ROC AUC=0.527\n"
     ]
    },
    {
     "data": {
      "image/png": "[encoded data removed]",
      "text/plain": [
       "<Figure size 432x288 with 1 Axes>"
      ]
     },
     "metadata": {
      "needs_background": "light"
     },
     "output_type": "display_data"
    }
   ],
   "source": [
    "# PLotting the AUC curve \n",
    "\n",
    "y_prob = model.predict_proba(X_test)\n",
    "ns_probs = [0 for _ in range(len(y_test))]\n",
    "y_probs = y_prob[:, 1]\n",
    "# calculate scores\n",
    "lr_auc = roc_auc_score(y_test, y_probs)\n",
    "# summarize scores\n",
    "print('Decision Tree : ROC AUC=%.3f' % (lr_auc))\n",
    "# calculate roc curves\n",
    "ns_fpr, ns_tpr, _ = roc_curve(y_test, ns_probs)\n",
    "lr_fpr, lr_tpr, _ = roc_curve(y_test, y_probs)\n",
    "# plot the roc curve for the model\n",
    "pyplot.plot(ns_fpr, ns_tpr, linestyle='--', label='No Skill')\n",
    "pyplot.plot(lr_fpr, lr_tpr, marker='.', label='Decision Tree')\n",
    "# axis labels\n",
    "pyplot.xlabel('False Positive Rate')\n",
    "pyplot.ylabel('True Positive Rate')\n",
    "# show the legend\n",
    "pyplot.legend()\n",
    "# show the plot\n",
    "pyplot.show()"
   ]
  },
  {
   "cell_type": "markdown",
   "id": "95sRvgZINz4D",
   "metadata": {
    "id": "95sRvgZINz4D"
   },
   "source": [
    "Model 2 : Logistic Regression "
   ]
  },
  {
   "cell_type": "code",
   "execution_count": 18,
   "id": "JtfWQ7m5N4ow",
   "metadata": {
    "id": "JtfWQ7m5N4ow"
   },
   "outputs": [],
   "source": [
    "# Logistic Regression \n",
    "# We will be creating a multinomial model as mentioned in the paper [1]\n",
    "clf_log = LogisticRegression(multi_class='multinomial',random_state=42)\n",
    "# Fitting Model \n",
    "log_model = clf_log.fit(X_train,y_train)"
   ]
  },
  {
   "cell_type": "code",
   "execution_count": 19,
   "id": "8_DC92x6OA2w",
   "metadata": {
    "colab": {
     "base_uri": "https://localhost:8080/"
    },
    "id": "8_DC92x6OA2w",
    "outputId": "bc420da8-0368-4779-b50c-5746464c4331"
   },
   "outputs": [
    {
     "name": "stdout",
     "output_type": "stream",
     "text": [
      "Accuracy of Logistic Regression Model :  0.8865680067744667\n"
     ]
    }
   ],
   "source": [
    "# Accuracy\n",
    "accuracy_logistic_regression = log_model.score(X_test,y_test)\n",
    "print(\"Accuracy of Logistic Regression Model : \",accuracy_logistic_regression)"
   ]
  },
  {
   "cell_type": "code",
   "execution_count": 20,
   "id": "ajDzzxAeODD1",
   "metadata": {
    "colab": {
     "base_uri": "https://localhost:8080/"
    },
    "id": "ajDzzxAeODD1",
    "outputId": "e54128e3-2e2d-48e6-c73f-9abb0f96e4dc"
   },
   "outputs": [
    {
     "name": "stdout",
     "output_type": "stream",
     "text": [
      "Classification Report on Logistic Regression Model \n",
      "              precision    recall  f1-score   support\n",
      "\n",
      "           0       0.89      1.00      0.94     21971\n",
      "           1       0.61      0.02      0.03      2828\n",
      "\n",
      "    accuracy                           0.89     24799\n",
      "   macro avg       0.75      0.51      0.48     24799\n",
      "weighted avg       0.86      0.89      0.84     24799\n",
      "\n",
      "AUC score = 63.658569606058435 %\n"
     ]
    }
   ],
   "source": [
    "# Y predicitons on Test Data \n",
    "y_pred_logistic_regression = log_model.predict(X_test)\n",
    "\n",
    "# Classification Report \n",
    "print(\"Classification Report on Logistic Regression Model \")\n",
    "print(classification_report(y_test, y_pred_logistic_regression))\n",
    "\n",
    "# AUC score \n",
    "print(f\"AUC score = {roc_auc_score(y_test, log_model.predict_proba(X_test)[:,1])*100} %\")"
   ]
  },
  {
   "cell_type": "code",
   "execution_count": 21,
   "id": "hxO_aaAMYSv4",
   "metadata": {
    "colab": {
     "base_uri": "https://localhost:8080/",
     "height": 296
    },
    "id": "hxO_aaAMYSv4",
    "outputId": "30a3687c-e480-4da7-c584-2f5617fdc9ed"
   },
   "outputs": [
    {
     "name": "stdout",
     "output_type": "stream",
     "text": [
      "Logistic: ROC AUC=0.637\n"
     ]
    },
    {
     "data": {
      "image/png": "[encoded data removed]",
      "text/plain": [
       "<Figure size 432x288 with 1 Axes>"
      ]
     },
     "metadata": {
      "needs_background": "light"
     },
     "output_type": "display_data"
    }
   ],
   "source": [
    "# PLotting the AUC curve for logistic Regression\n",
    "\n",
    "y_prob = log_model.predict_proba(X_test)\n",
    "ns_probs = [0 for _ in range(len(y_test))]\n",
    "y_probs = y_prob[:, 1]\n",
    "# calculate scores\n",
    "lr_auc = roc_auc_score(y_test, y_probs)\n",
    "# summarize scores\n",
    "print('Logistic: ROC AUC=%.3f' % (lr_auc))\n",
    "# calculate roc curves\n",
    "ns_fpr, ns_tpr, _ = roc_curve(y_test, ns_probs)\n",
    "lr_fpr, lr_tpr, _ = roc_curve(y_test, y_probs)\n",
    "# plot the roc curve for the model\n",
    "pyplot.plot(ns_fpr, ns_tpr, linestyle='--', label='No Skill')\n",
    "pyplot.plot(lr_fpr, lr_tpr, marker='.', label='Logistic')\n",
    "# axis labels\n",
    "pyplot.xlabel('False Positive Rate')\n",
    "pyplot.ylabel('True Positive Rate')\n",
    "# show the legend\n",
    "pyplot.legend()\n",
    "# show the plot\n",
    "pyplot.show()"
   ]
  },
  {
   "cell_type": "markdown",
   "id": "QRqRHBvEOyT_",
   "metadata": {
    "id": "QRqRHBvEOyT_"
   },
   "source": [
    "Model 3 : Randon Forest Classifier"
   ]
  },
  {
   "cell_type": "code",
   "execution_count": 22,
   "id": "iZnpzjVzO-P4",
   "metadata": {
    "id": "iZnpzjVzO-P4"
   },
   "outputs": [],
   "source": [
    "# Random Forest Classifier\n",
    "clf_random_forest = RandomForestClassifier(random_state=42)\n",
    "# Fitting Model \n",
    "model_random_forest = clf_random_forest.fit(X_train,y_train)"
   ]
  },
  {
   "cell_type": "code",
   "execution_count": 23,
   "id": "_N7UVAK5PKtE",
   "metadata": {
    "colab": {
     "base_uri": "https://localhost:8080/"
    },
    "id": "_N7UVAK5PKtE",
    "outputId": "360960e4-b383-4cec-cd29-04d43762504a"
   },
   "outputs": [
    {
     "name": "stdout",
     "output_type": "stream",
     "text": [
      "Accuracy of Random Forest :  0.885076011129481\n"
     ]
    }
   ],
   "source": [
    "# Accuracy\n",
    "accuracy_random_forest = model_random_forest.score(X_test,y_test)\n",
    "print(\"Accuracy of Random Forest : \",accuracy_random_forest)"
   ]
  },
  {
   "cell_type": "code",
   "execution_count": 24,
   "id": "puz7oPH1Pqzv",
   "metadata": {
    "colab": {
     "base_uri": "https://localhost:8080/"
    },
    "id": "puz7oPH1Pqzv",
    "outputId": "d3933309-b58d-47a9-d7e0-fda897c85d58"
   },
   "outputs": [
    {
     "name": "stdout",
     "output_type": "stream",
     "text": [
      "Classification Report on Random Forest Model \n",
      "              precision    recall  f1-score   support\n",
      "\n",
      "           0       0.89      1.00      0.94     21971\n",
      "           1       0.40      0.01      0.03      2828\n",
      "\n",
      "    accuracy                           0.89     24799\n",
      "   macro avg       0.64      0.51      0.48     24799\n",
      "weighted avg       0.83      0.89      0.84     24799\n",
      "\n",
      "AUC score = 62.51651431097582 %\n"
     ]
    }
   ],
   "source": [
    "# Y predicitons on Test Data \n",
    "y_pred_random_forest = model_random_forest.predict(X_test)\n",
    "\n",
    "# Classification Report \n",
    "print(\"Classification Report on Random Forest Model \")\n",
    "print(classification_report(y_test, y_pred_random_forest))\n",
    "\n",
    "# AUC score \n",
    "print(f\"AUC score = {roc_auc_score(y_test, model_random_forest.predict_proba(X_test)[:,1])*100} %\")"
   ]
  },
  {
   "cell_type": "code",
   "execution_count": 25,
   "id": "gyjQeAUeYoBG",
   "metadata": {
    "colab": {
     "base_uri": "https://localhost:8080/",
     "height": 296
    },
    "id": "gyjQeAUeYoBG",
    "outputId": "4ac5ea00-341b-490e-d213-2a582fa74d22"
   },
   "outputs": [
    {
     "name": "stdout",
     "output_type": "stream",
     "text": [
      "Random Forest: ROC AUC=0.625\n"
     ]
    },
    {
     "data": {
      "image/png": "[encoded data removed]",
      "text/plain": [
       "<Figure size 432x288 with 1 Axes>"
      ]
     },
     "metadata": {
      "needs_background": "light"
     },
     "output_type": "display_data"
    }
   ],
   "source": [
    "# PLotting the AUC curve for Random Forest\n",
    "\n",
    "y_prob = model_random_forest.predict_proba(X_test)\n",
    "ns_probs = [0 for _ in range(len(y_test))]\n",
    "y_probs = y_prob[:, 1]\n",
    "# calculate scores\n",
    "lr_auc = roc_auc_score(y_test, y_probs)\n",
    "# summarize scores\n",
    "print('Random Forest: ROC AUC=%.3f' % (lr_auc))\n",
    "# calculate roc curves\n",
    "ns_fpr, ns_tpr, _ = roc_curve(y_test, ns_probs)\n",
    "lr_fpr, lr_tpr, _ = roc_curve(y_test, y_probs)\n",
    "# plot the roc curve for the model\n",
    "pyplot.plot(ns_fpr, ns_tpr, linestyle='--', label='No Skill')\n",
    "pyplot.plot(lr_fpr, lr_tpr, marker='.', label='Random Forest')\n",
    "# axis labels\n",
    "pyplot.xlabel('False Positive Rate')\n",
    "pyplot.ylabel('True Positive Rate')\n",
    "# show the legend\n",
    "pyplot.legend()\n",
    "# show the plot\n",
    "pyplot.show()"
   ]
  },
  {
   "cell_type": "markdown",
   "id": "2LUUh1SuSuBo",
   "metadata": {
    "id": "2LUUh1SuSuBo"
   },
   "source": [
    "We can see from above 3 models that the accuracy and recall (for less than 30 days admission) compared below - "
   ]
  },
  {
   "cell_type": "markdown",
   "id": "doTFWJLxT-ep",
   "metadata": {
    "id": "doTFWJLxT-ep"
   },
   "source": [
    " Model              | Accuracy  | Recall | \n",
    "-------------------|--------------------|--------|\n",
    "# Deicion Tree       | 79.1%     | **0.19**   |\n",
    "# Logistic Regression| **88.6%**     | 0.02   |\n",
    "# Random Forest      | 88.5%     | 0.01   |"
   ]
  },
  {
   "cell_type": "markdown",
   "id": "j_VfGDJdY3BT",
   "metadata": {
    "id": "j_VfGDJdY3BT"
   },
   "source": [
    "From the above comparision table we can see that the logistic regression model gives best accuracy and decision tree gices best recall. \n",
    "\n",
    "For this problem statement where we need to predict wheter the patient will be coming for early readmission or not we need to focus on recall more as it gives us how many patient which were coming back we predicted them to be true. \n",
    "\n",
    "So, eventhough Logistic Regression and Random Forest model looks good on accuracy but overall **Decision Tree **is best fit for this problem statement. \n"
   ]
  },
  {
   "cell_type": "code",
   "execution_count": 26,
   "id": "2AryTsg8Zzpr",
   "metadata": {
    "colab": {
     "base_uri": "https://localhost:8080/"
    },
    "id": "2AryTsg8Zzpr",
    "outputId": "4fbafb95-befc-4590-ffd1-8d412dd9f78d"
   },
   "outputs": [
    {
     "name": "stdout",
     "output_type": "stream",
     "text": [
      "{'criterion': 'gini', 'max_depth': 34, 'splitter': 'random'}\n"
     ]
    }
   ],
   "source": [
    "# We will be hyper tuning our selected deciontree model with GridSearchCv\n",
    "\n",
    "dtree = DecisionTreeClassifier()\n",
    "tree_params =[{'criterion':['gini','entropy'],'splitter':['best','random'],'max_depth':list(range(1,40))}]\n",
    "clf = GridSearchCV(dtree, tree_params, cv = 5, scoring='recall',n_jobs=-1)\n",
    "clf.fit(X_train, y_train)\n",
    "print(clf.best_params_)"
   ]
  },
  {
   "cell_type": "code",
   "execution_count": 27,
   "id": "Ik0eymkicLV_",
   "metadata": {
    "colab": {
     "base_uri": "https://localhost:8080/"
    },
    "id": "Ik0eymkicLV_",
    "outputId": "0fa22a2b-e770-44ca-aa5e-a228319e23d1"
   },
   "outputs": [
    {
     "data": {
      "text/plain": [
       "0.7911609339086253"
      ]
     },
     "execution_count": 27,
     "metadata": {},
     "output_type": "execute_result"
    }
   ],
   "source": [
    "dtree_gcv = DecisionTreeClassifier(criterion='gini',splitter='best',max_depth=37,random_state=42)\n",
    "model_tree = dtree_gcv.fit(X_train, y_train)\n",
    "model_tree.score(X_test,y_test)"
   ]
  },
  {
   "cell_type": "code",
   "execution_count": 28,
   "id": "DxO3Idlsc0Hv",
   "metadata": {
    "colab": {
     "base_uri": "https://localhost:8080/"
    },
    "id": "DxO3Idlsc0Hv",
    "outputId": "ab0095ed-9b9a-4be7-fc69-f58cd22f0729"
   },
   "outputs": [
    {
     "name": "stdout",
     "output_type": "stream",
     "text": [
      "Classification Report on Decision Tree Model \n",
      "              precision    recall  f1-score   support\n",
      "\n",
      "           0       0.89      0.87      0.88     21971\n",
      "           1       0.15      0.19      0.17      2828\n",
      "\n",
      "    accuracy                           0.79     24799\n",
      "   macro avg       0.52      0.53      0.52     24799\n",
      "weighted avg       0.81      0.79      0.80     24799\n",
      "\n",
      "AUC score = 52.726024925359695 %\n"
     ]
    }
   ],
   "source": [
    "# Y predicitons on Test Data \n",
    "y_pred = model_tree.predict(X_test)\n",
    "\n",
    "# Classification Report \n",
    "print(\"Classification Report on Decision Tree Model \")\n",
    "print(classification_report(y_test, y_pred))\n",
    "\n",
    "# AUC score \n",
    "print(f\"AUC score = {roc_auc_score(y_test, model_tree.predict_proba(X_test)[:,1])*100} %\")"
   ]
  },
  {
   "cell_type": "markdown",
   "id": "FzlzzPUyecQN",
   "metadata": {
    "id": "FzlzzPUyecQN"
   },
   "source": [
    "After hypertunung with GridSearchCV we see no chnage in recall and accuracy \n",
    "so we consider our model as best fit for this dataset. "
   ]
  },
  {
   "cell_type": "markdown",
   "id": "S5PJzyaDhppX",
   "metadata": {
    "id": "S5PJzyaDhppX"
   },
   "source": [
    "As we can see from above analysis that the recall of model is not increasing above 0.19 due to class imbalance problem. \n",
    "\n",
    "To resolve the issue of class imbalance we will be using a techique call undersampleling of data for '0' class as it has high number of rows. \n",
    "For this we will be using RandomUnderSampler Library. "
   ]
  },
  {
   "cell_type": "code",
   "execution_count": 29,
   "id": "xAKc3GzvO9M0",
   "metadata": {
    "colab": {
     "base_uri": "https://localhost:8080/"
    },
    "id": "xAKc3GzvO9M0",
    "outputId": "4f5d22e2-0875-4707-9df6-7ba34c79913b"
   },
   "outputs": [
    {
     "name": "stdout",
     "output_type": "stream",
     "text": [
      "New Distribution  Counter({0: 8486, 1: 8486})\n"
     ]
    }
   ],
   "source": [
    "# RandomUnderSampler \n",
    "under = RandomUnderSampler()\n",
    "# transform the dataset, it checks the train data and reduces the number of samples.\n",
    "X_train, y_train = under.fit_resample(X_train, y_train)\n",
    "# New class distribution \n",
    "counter = Counter(y_train)\n",
    "print(\"New Distribution \",counter)\n",
    "# Fitting the model of decision tree on new data \n",
    "model_undersampled = clf.fit(X_train,y_train)"
   ]
  },
  {
   "cell_type": "code",
   "execution_count": 30,
   "id": "lrwGvTTFidVa",
   "metadata": {
    "colab": {
     "base_uri": "https://localhost:8080/"
    },
    "id": "lrwGvTTFidVa",
    "outputId": "e3b8ce7b-2a93-486a-9c55-1f12e78ef891"
   },
   "outputs": [
    {
     "name": "stdout",
     "output_type": "stream",
     "text": [
      "Accuracy of Decision Tree with Undersampled data :  0.743988684582744\n"
     ]
    }
   ],
   "source": [
    "# Accuracy\n",
    "accuracy_undersampled = model_undersampled.score(X_test,y_test)\n",
    "print(\"Accuracy of Decision Tree with Undersampled data : \",accuracy_undersampled)"
   ]
  },
  {
   "cell_type": "code",
   "execution_count": 31,
   "id": "WxTmTKjKk92Q",
   "metadata": {
    "colab": {
     "base_uri": "https://localhost:8080/"
    },
    "id": "WxTmTKjKk92Q",
    "outputId": "92f6be7a-e324-4fcf-8b89-957e3a19479d"
   },
   "outputs": [
    {
     "name": "stdout",
     "output_type": "stream",
     "text": [
      "Classification Report on Decision Tree with Undersampled Data \n",
      "              precision    recall  f1-score   support\n",
      "\n",
      "           0       0.93      0.45      0.60     21971\n",
      "           1       0.15      0.74      0.25      2828\n",
      "\n",
      "    accuracy                           0.48     24799\n",
      "   macro avg       0.54      0.60      0.43     24799\n",
      "weighted avg       0.84      0.48      0.56     24799\n",
      "\n",
      "AUC score = 62.64527717100663 %\n"
     ]
    }
   ],
   "source": [
    "# Y predicitons on Test Data \n",
    "y_pred_undersampled = model_undersampled.predict(X_test)\n",
    "\n",
    "# Classification Report \n",
    "print(\"Classification Report on Decision Tree with Undersampled Data \")\n",
    "print(classification_report(y_test, y_pred_undersampled))\n",
    "\n",
    "# AUC score \n",
    "print(f\"AUC score = {roc_auc_score(y_test, model_undersampled.predict_proba(X_test)[:,1])*100} %\")"
   ]
  },
  {
   "cell_type": "markdown",
   "id": "DcovouknjGji",
   "metadata": {
    "id": "DcovouknjGji"
   },
   "source": [
    "After undersampling we can see a significant rise in the recall value. "
   ]
  },
  {
   "cell_type": "code",
   "execution_count": 33,
   "id": "NHUU4Z9ik_6l",
   "metadata": {
    "colab": {
     "base_uri": "https://localhost:8080/",
     "height": 296
    },
    "id": "NHUU4Z9ik_6l",
    "outputId": "94b1b55f-6110-49e8-d7b7-e06a9f6b0966"
   },
   "outputs": [
    {
     "name": "stdout",
     "output_type": "stream",
     "text": [
      "Decision Tree with Undersampled Data: ROC AUC=0.626\n"
     ]
    },
    {
     "data": {
      "image/png": "[encoded data removed]",
      "text/plain": [
       "<Figure size 432x288 with 1 Axes>"
      ]
     },
     "metadata": {
      "needs_background": "light"
     },
     "output_type": "display_data"
    }
   ],
   "source": [
    "# PLotting the AUC curve for Decision Tree with undersampled data\n",
    "\n",
    "y_prob = model_undersampled.predict_proba(X_test)\n",
    "ns_probs = [0 for _ in range(len(y_test))]\n",
    "y_probs = y_prob[:, 1]\n",
    "# calculate scores\n",
    "lr_auc = roc_auc_score(y_test, y_probs)\n",
    "# summarize scores\n",
    "print('Decision Tree with Undersampled Data: ROC AUC=%.3f' % (lr_auc))\n",
    "# calculate roc curves\n",
    "ns_fpr, ns_tpr, _ = roc_curve(y_test, ns_probs)\n",
    "lr_fpr, lr_tpr, _ = roc_curve(y_test, y_probs)\n",
    "# plot the roc curve for the model\n",
    "pyplot.plot(ns_fpr, ns_tpr, linestyle='--', label='No Skill')\n",
    "pyplot.plot(lr_fpr, lr_tpr, marker='.', label='Decision Tree')\n",
    "# axis labels\n",
    "pyplot.xlabel('False Positive Rate')\n",
    "pyplot.ylabel('True Positive Rate')\n",
    "# show the legend\n",
    "pyplot.legend()\n",
    "# show the plot\n",
    "pyplot.show()"
   ]
  },
  {
   "cell_type": "markdown",
   "id": "u6ivXzhKjhWL",
   "metadata": {
    "id": "u6ivXzhKjhWL"
   },
   "source": [
    "There is a slight improvement in AUC score after undersampling the data. "
   ]
  },
  {
   "cell_type": "markdown",
   "id": "Ev2uhuYokQA8",
   "metadata": {
    "id": "Ev2uhuYokQA8"
   },
   "source": [
    "From above comparision of 3 Models we can say that the decision tree is best fit for this problem statement. \n",
    "\n",
    " Model              | Accuracy  | Recall | \n",
    "-------------------|--------------------|--------|\n",
    "# Deicion Tree       | 79.1%     | **0.19**   |\n",
    "# Logistic Regression| **88.6%**     | 0.02   |\n",
    "# Random Forest      | 88.5%     | 0.01   |"
   ]
  },
  {
   "cell_type": "markdown",
   "id": "HYDO1Pg0khtd",
   "metadata": {
    "id": "HYDO1Pg0khtd"
   },
   "source": [
    "Comparision of Decision Tree after undersamping of data - \n",
    "\n",
    " Model              | Accuracy  | Recall | \n",
    "-------------------|--------------------|--------|\n",
    "# Deicion Tree       |**79.1%**     | 0.19   |\n",
    "# Undersampled Decsion Tree | 74.39%     | **0.74**   |\n",
    "\n",
    "After Undersampling the data we can say that there is decrease in accuracy and increase in recall. As in this problem we have more focus in recall we decided to undersample.\n",
    "\n",
    "There is need of more data of patient getting readmitted to generate better model."
   ]
  },
  {
   "cell_type": "markdown",
   "id": "1WgwEWF9lvc8",
   "metadata": {
    "id": "1WgwEWF9lvc8"
   },
   "source": [
    "References - \n",
    "\n",
    "[1] - https://downloads.hindawi.com/journals/bmri/2014/781670.pdf\n",
    "\n",
    "[2] - https://en.wikipedia.org/wiki/List_of_ICD-9_codes\n",
    "\n",
    "[3] - https://towardsdatascience.com/the-5-feature-selection-algorithms-every-data-scientist-need-to-know-3a6b566efd2"
   ]
  }
 ],
 "metadata": {
  "colab": {
   "collapsed_sections": [],
   "name": "Shubham_Wani DS Project.ipynb",
   "provenance": []
  },
  "kernelspec": {
   "display_name": "Python 3",
   "language": "python",
   "name": "python3"
  },
  "language_info": {
   "codemirror_mode": {
    "name": "ipython",
    "version": 3
   },
   "file_extension": ".py",
   "mimetype": "text/x-python",
   "name": "python",
   "nbconvert_exporter": "python",
   "pygments_lexer": "ipython3",
   "version": "3.8.8"
  }
 },
 "nbformat": 4,
 "nbformat_minor": 5
}
